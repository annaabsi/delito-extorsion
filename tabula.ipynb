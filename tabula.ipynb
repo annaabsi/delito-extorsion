{
 "cells": [
  {
   "cell_type": "code",
   "execution_count": 8,
   "metadata": {},
   "outputs": [
    {
     "name": "stderr",
     "output_type": "stream",
     "text": [
      "Got stderr: Dec 02, 2022 10:11:42 AM org.apache.pdfbox.pdmodel.font.PDType1Font <init>\n",
      "WARNING: Using fallback font LiberationSans for base font Symbol\n",
      "Dec 02, 2022 10:11:42 AM org.apache.pdfbox.pdmodel.font.PDType1Font <init>\n",
      "WARNING: Using fallback font LiberationSans for base font ZapfDingbats\n",
      "\n",
      "Got stderr: Dec 02, 2022 10:11:55 AM org.apache.pdfbox.pdmodel.font.PDType1Font <init>\n",
      "WARNING: Using fallback font LiberationSans for base font Symbol\n",
      "Dec 02, 2022 10:11:55 AM org.apache.pdfbox.pdmodel.font.PDType1Font <init>\n",
      "WARNING: Using fallback font LiberationSans for base font ZapfDingbats\n",
      "\n"
     ]
    }
   ],
   "source": [
    "import tabula\n",
    "\n",
    "# Read pdf into a list of DataFrame\n",
    "df1 = tabula.read_pdf(\"pdf/CANTIDAD PROCESOS JUDICIALES - DELITO EXTORSIONF.pdf\", pages='all')\n",
    "df1\n",
    "df2 = tabula.read_pdf(\"pdf/NUMERO DE SENTENCIAS POR EL DELITO EXTORSIONF.pdf\", pages='all')\n",
    "df2\n",
    "\n",
    "# convert all PDFs in a directory\n",
    "tabula.convert_into_by_batch(\"pdf\", output_format='csv', pages='all')"
   ]
  }
 ],
 "metadata": {
  "kernelspec": {
   "display_name": "Python 3.9.7 64-bit",
   "language": "python",
   "name": "python3"
  },
  "language_info": {
   "codemirror_mode": {
    "name": "ipython",
    "version": 3
   },
   "file_extension": ".py",
   "mimetype": "text/x-python",
   "name": "python",
   "nbconvert_exporter": "python",
   "pygments_lexer": "ipython3",
   "version": "3.9.7"
  },
  "orig_nbformat": 4,
  "vscode": {
   "interpreter": {
    "hash": "916dbcbb3f70747c44a77c7bcd40155683ae19c65e1c03b4aa3499c5328201f1"
   }
  }
 },
 "nbformat": 4,
 "nbformat_minor": 2
}
